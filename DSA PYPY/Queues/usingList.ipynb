{
 "cells": [
  {
   "cell_type": "markdown",
   "id": "9ca9b156",
   "metadata": {},
   "source": [
    "ENQUE ALOGRITHM\n",
    "Enqueue(item)\n",
    "\n",
    "Step 1: \n",
    "\n",
    "IF REAR = N -1 \n",
    "\n",
    "        Print “OVERFLOW! QUEUE IS ALREADY FULL”\n",
    "\n",
    "         TERMINATE\n",
    "\n",
    "Step 2:\n",
    "\n",
    "IF FRONT = -1 AND REAR = -1\n",
    "\n",
    "        SET FRONT AND REAR AT 0 FRONT = REAR = 0\n",
    "\n",
    "ELSE\n",
    "\n",
    "          INCREMENT REAR BY 1 SET REAR = REAR = 1\n",
    "\n",
    "[ END OF IF]\n",
    "\n",
    "Step 3: \n",
    "\n",
    "INSERT ELEMNET AT REAR Set QUEUE[ REAR] = ITEM\n",
    "\n",
    "Step 4:\n",
    "\n",
    "EXIT"
   ]
  },
  {
   "cell_type": "markdown",
   "id": "25b04a55",
   "metadata": {},
   "source": [
    "Dequeue()\n",
    "\n",
    "Step 1:\n",
    "\n",
    "IF FRONT = -1 or FRONT > REAR\n",
    "\n",
    "     Print “UNDERFLOW! QUEUE IS EMPTY”\n",
    "\n",
    "     TERMINATE\n",
    "\n",
    "ELSE\n",
    "\n",
    "         SET DELETE FRONT VALUE VAL = QUEUE[ FRONT]\n",
    "\n",
    "Step 2:\n",
    "\n",
    "IF FRONT == REAR\n",
    "\n",
    "        SET BOTH FRONT AND REAR AT -1 SET FRONT = REAR =-1\n",
    "\n",
    "ELSE\n",
    "\n",
    "         INCREMENT FRONT BY 1 SET FRONT = FRONT + 1\n",
    "\n",
    "[ END OF IF ]\n",
    "\n",
    "STEP 3:\n",
    "\n",
    "EXIT"
   ]
  },
  {
   "cell_type": "markdown",
   "id": "272151db",
   "metadata": {},
   "source": [
    "Scenario 1: Printer Queue Management"
   ]
  },
  {
   "cell_type": "code",
   "execution_count": 2,
   "id": "a9211388",
   "metadata": {},
   "outputs": [
    {
     "name": "stdout",
     "output_type": "stream",
     "text": [
      "Print Job 1\n",
      "Print Job 2\n"
     ]
    }
   ],
   "source": [
    "class PrinterQueue:\n",
    "    def __init__(self, size):\n",
    "        self.size = size\n",
    "        self.queue = [None] * size\n",
    "        self.front = self.rear = -1\n",
    " \n",
    "    def enqueue(self, job):\n",
    "        if self.rear == self.size - 1:\n",
    "            print(\"Queue is full. Cannot enqueue.\")\n",
    "            return\n",
    "        if self.front == -1:\n",
    "            self.front = 0\n",
    "        self.rear += 1\n",
    "        self.queue[self.rear] = job\n",
    "\n",
    "    def dequeue(self):\n",
    "        if self.front == -1:\n",
    "            print(\"Queue is empty. Cannot dequeue.\")\n",
    "            return None\n",
    "        job = self.queue[self.front]\n",
    "        if self.front == self.rear:\n",
    "            self.front = self.rear = -1\n",
    "        else:\n",
    "            self.front += 1\n",
    "        return job\n",
    "\n",
    "printer_queue = PrinterQueue(5)\n",
    "\n",
    "printer_queue.enqueue(\"Print Job 1\")\n",
    "printer_queue.enqueue(\"Print Job 2\")\n",
    "printer_queue.enqueue(\"Print Job 3\")\n",
    "\n",
    "#jobs\n",
    "print(printer_queue.dequeue())  \n",
    "print(printer_queue.dequeue())"
   ]
  },
  {
   "cell_type": "markdown",
   "id": "55371d7f",
   "metadata": {},
   "source": [
    "Scenario 2: Breadth-First Search (BFS) Traversal"
   ]
  },
  {
   "cell_type": "code",
   "execution_count": 3,
   "id": "395ff07c",
   "metadata": {},
   "outputs": [
    {
     "name": "stdout",
     "output_type": "stream",
     "text": [
      "BFS Traversal:\n",
      "1 2 3 4 5 6 7 "
     ]
    }
   ],
   "source": [
    "from collections import defaultdict, deque\n",
    "class Graph:\n",
    "    def __init__(self):\n",
    "        self.graph = defaultdict(list)\n",
    "\n",
    "    def add_edge(self, u, v):\n",
    "        self.graph[u].append(v)\n",
    "\n",
    "    def bfs(self, start_node):\n",
    "        visited = set()\n",
    "        queue = deque([start_node])\n",
    "        visited.add(start_node)\n",
    "\n",
    "        while queue:\n",
    "            node = queue.popleft()\n",
    "            print(node, end=\" \")\n",
    "\n",
    "            for neighbor in self.graph[node]:\n",
    "                if neighbor not in visited:\n",
    "                    queue.append(neighbor)\n",
    "                    visited.add(neighbor)\n",
    "\n",
    "graph = Graph()\n",
    "graph.add_edge(1, 2)\n",
    "graph.add_edge(1, 3)\n",
    "graph.add_edge(2, 4)\n",
    "graph.add_edge(2, 5)\n",
    "graph.add_edge(3, 6)\n",
    "graph.add_edge(3, 7)\n",
    "\n",
    "\n",
    "print(\"BFS Traversal:\")\n",
    "graph.bfs(1)"
   ]
  }
 ],
 "metadata": {
  "kernelspec": {
   "display_name": "Python 3",
   "language": "python",
   "name": "python3"
  },
  "language_info": {
   "codemirror_mode": {
    "name": "ipython",
    "version": 3
   },
   "file_extension": ".py",
   "mimetype": "text/x-python",
   "name": "python",
   "nbconvert_exporter": "python",
   "pygments_lexer": "ipython3",
   "version": "3.13.0"
  }
 },
 "nbformat": 4,
 "nbformat_minor": 5
}
