{
 "cells": [
  {
   "cell_type": "markdown",
   "id": "d192c136",
   "metadata": {},
   "source": [
    "Hashing Algorithms in Python\n",
    "Python supports several hashing algorithms, such as MD5, SHA-1, and SHA-256. These algorithms produce hash values of varying lengths and security levels.\n",
    "\n",
    "Types of Hashing Algorithms:\n",
    "\n",
    "* MD5\n",
    "* SHA-1\n",
    "* SHA-256"
   ]
  },
  {
   "cell_type": "code",
   "execution_count": null,
   "id": "64f93d0c",
   "metadata": {},
   "outputs": [
    {
     "name": "stdout",
     "output_type": "stream",
     "text": [
      "Original String: hello world\n",
      "MD5 Hash: 5eb63bbbe01eeed093cb22bb8f5acdc3\n"
     ]
    }
   ],
   "source": [
    "# MD5\n",
    "# MD5, which stands for Message Digest Algorithm 5, is a widely used cryptographic hash function. It was designed by Ronald Rivest in 1991 and is commonly employed in various applications for data verification and fingerprinting. MD5 produces a fixed-size 128-bit (16-byte) hash value, typically represented as a 32-character hexadecimal number.\n",
    "\n",
    "# Common Uses of MD5\n",
    "\n",
    "# 1. Data Integrity\n",
    "\n",
    "# MD5 is often used to verify the integrity of data during transmission. By computing the MD5 hash of the original data and comparing it with the received data’s hash, you can quickly detect any changes or errors.\n",
    "\n",
    "# 2. Password Storage\n",
    "\n",
    "# MD5 was used to store passwords. When a user creates or updates a password, the system hashes it using MD5 and stores the hash. When the user logs in, the system hashes the entered password and compares it to the stored hash.\n",
    "\n",
    "# 3. Digital Signatures Time and Space Complexity:\n",
    "# Time Complexity: O(n) – depends on the length of the input string.\n",
    "# Space Complexity: O(1) – output size is always fixed at 128 bits (16 bytes).\n",
    "\n",
    "# MD5 is employed in digital signatures and certificates to ensure the authenticity of documents and software. By hashing the content and providing a hash value, you can verify that the document has not been altered.\n",
    "import hashlib\n",
    "# Input string\n",
    "data = \"hello world\"\n",
    "\n",
    "# Creating MD5 hash object\n",
    "md5_hash = hashlib.md5()\n",
    "\n",
    "# Updating the hash object with encoded data\n",
    "md5_hash.update(data.encode())\n",
    "\n",
    "# Getting the hexadecimal digest\n",
    "hash_result = md5_hash.hexdigest()\n",
    "\n",
    "print(\"Original String:\", data)\n",
    "print(\"MD5 Hash:\", hash_result)"
   ]
  },
  {
   "cell_type": "code",
   "execution_count": 2,
   "id": "c2718a8f",
   "metadata": {},
   "outputs": [
    {
     "name": "stdout",
     "output_type": "stream",
     "text": [
      "SHA-1 Hash: 0a0a9f2a6772942557ab5355d76af442f8f65e01\n"
     ]
    }
   ],
   "source": [
    "# SHA-1\n",
    "# SHA-1, which stands for Secure Hash Algorithm 1, \n",
    "# is a cryptographic hash function designed to take an input message and produce a fixed-size 160-bit (20-byte) hash value.\n",
    "# While SHA-1 was once considered secure and widely used,\n",
    "# it is now considered vulnerable to collision attacks,\n",
    "# and its use is discouraged for security-critical applications.\n",
    "\n",
    "import hashlib\n",
    "\n",
    "# Create a sample message to hash\n",
    "message = \"Hello, World!\"\n",
    "\n",
    "# Create a SHA-1 hash object\n",
    "sha1_hash = hashlib.sha1()\n",
    "\n",
    "# Update the hash object with the message\n",
    "sha1_hash.update(message.encode())\n",
    "\n",
    "# Get the hexadecimal representation of the hash\n",
    "hashed_message = sha1_hash.hexdigest()\n",
    "\n",
    "# Print the SHA-1 hash\n",
    "print(\"SHA-1 Hash:\", hashed_message)\n"
   ]
  },
  {
   "cell_type": "code",
   "execution_count": 3,
   "id": "621514f4",
   "metadata": {},
   "outputs": [
    {
     "name": "stdout",
     "output_type": "stream",
     "text": [
      "SHA-256 Hash: dffd6021bb2bd5b0af676290809ec3a53191dd81c7f70a4b28688a362182986f\n"
     ]
    }
   ],
   "source": [
    "# SHA-256\n",
    "# SHA-256, part of the SHA-2 family of cryptographic hash functions, \n",
    "# is widely used for various security and integrity purposes. \n",
    "# It produces a 256-bit (32-byte) hash value, \n",
    "# which is considered highly secure.\n",
    "import hashlib\n",
    "\n",
    "# Create a sample message to hash\n",
    "message = \"Hello, World!\"\n",
    "\n",
    "# Create a SHA-256 hash object\n",
    "sha256_hash = hashlib.sha256()\n",
    "\n",
    "# Update the hash object with the message\n",
    "sha256_hash.update(message.encode())\n",
    "\n",
    "# Get the hexadecimal representation of the hash\n",
    "hashed_message = sha256_hash.hexdigest()\n",
    "\n",
    "# Print the SHA-256 hash\n",
    "print(\"SHA-256 Hash:\", hashed_message)"
   ]
  },
  {
   "cell_type": "markdown",
   "id": "be4db1bd",
   "metadata": {},
   "source": [
    "What is collision?\n",
    "A collision in hashing refers to a situation where two different inputs produce the same hash value or hash code. In other words, it occurs when two distinct sets of data or messages result in identical hash values after undergoing the hashing process."
   ]
  },
  {
   "cell_type": "markdown",
   "id": "cbdc2380",
   "metadata": {},
   "source": [
    "Handling collisions is a critical aspect of working with hashing algorithms, particularly in data structures and cryptographic applications. There are mainly two methods to handle collision:\n",
    "\n",
    "Separate Chaining:\n",
    "Open Addressing:\n",
    "Separate Chaining:\n",
    "\n",
    "In this approach, each hash bucket (a location where values are stored) in a hash table contains a linked list or another data structure to hold multiple values that hash to the same location.\n",
    "When a collision occurs, the new value is simply added to the list at that location. To retrieve a specific value, you search within the list. This method ensures that all values with the same hash can be stored and retrieved efficiently."
   ]
  },
  {
   "cell_type": "markdown",
   "id": "946d3c63",
   "metadata": {},
   "source": [
    "Open Addressing:\n",
    "\n",
    "Instead of using separate data structures, open addressing aims to find the next available slot when a collision happens\n",
    "There are various open addressing techniques, such as linear probing (checking the next available slot), quadratic probing (using a quadratic function to find the next slot), and double hashing (using a second hash function to calculate the next slot).\n",
    "Open addressing can lead to better cache performance compared to separate chaining."
   ]
  }
 ],
 "metadata": {
  "kernelspec": {
   "display_name": "Python 3",
   "language": "python",
   "name": "python3"
  },
  "language_info": {
   "codemirror_mode": {
    "name": "ipython",
    "version": 3
   },
   "file_extension": ".py",
   "mimetype": "text/x-python",
   "name": "python",
   "nbconvert_exporter": "python",
   "pygments_lexer": "ipython3",
   "version": "3.13.0"
  }
 },
 "nbformat": 4,
 "nbformat_minor": 5
}
