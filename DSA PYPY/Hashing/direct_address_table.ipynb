{
 "cells": [
  {
   "cell_type": "markdown",
   "id": "25de4eeb",
   "metadata": {},
   "source": [
    "What is Direct Addressing in Hashing?\n",
    "Direct addressing in hashing, also known as Direct Address Tables, is a simple and efficient technique used to store and retrieve data based on unique keys. In this approach, each unique key is directly mapped to a specific slot or index in an array or table, and the key itself serves as the index to access the associated data element."
   ]
  },
  {
   "cell_type": "markdown",
   "id": "5d2ed988",
   "metadata": {},
   "source": [
    "The structure of a Direct Address Table, also known as a Direct Addressing data structure, is quite straightforward. The basic structure of a Direct Address Table:\n",
    "\n",
    "Array: The core of a Direct Address Table is an array (or list) of fixed size. The size of the array depends on the range of possible key values. For example, if the keys can be integers from 0 to 999, you would create an array of size 1000 to accommodate all possible keys.\n",
    "\n",
    "Key-to-Index Mapping: In a Direct Address Table, the keys themselves are used as indices to access the associated data elements. Each unique key maps directly to a specific index in the array. For instance, if you have a key “K,” you would use “K” as the index to access the data element associated with that key.\n",
    "\n",
    "Data Storage: Data elements or values are stored directly in the array at the index corresponding to their associated keys. If there is no associated data for a particular key, the corresponding slot in the array is left empty (often represented as None or null)."
   ]
  },
  {
   "cell_type": "code",
   "execution_count": 2,
   "id": "79c46c7c",
   "metadata": {},
   "outputs": [
    {
     "name": "stdout",
     "output_type": "stream",
     "text": [
      "Data A: Data A\n",
      "Data B: Data B\n",
      "Data C: Data C\n",
      "Deleted Data (should be None): None\n"
     ]
    }
   ],
   "source": [
    "class DirectAddressTable:\n",
    "    def __init__(self, size):\n",
    "        # Create an array of a specified size, initialized with None\n",
    "        self.table = [None] * size\n",
    "\n",
    "    def insert(self, key, value):\n",
    "        # Ensure that the key is within the valid range of indices\n",
    "        if 0 <= key < len(self.table):\n",
    "            # Store the value at the index corresponding to the key\n",
    "            self.table[key] = value\n",
    "        else:\n",
    "            print(\"Error: Key is out of range.\")\n",
    "\n",
    "    def retrieve(self, key):\n",
    "        # Ensure that the key is within the valid range of indices\n",
    "        if 0 <= key < len(self.table):\n",
    "            # Retrieve the value at the index corresponding to the key\n",
    "            return self.table[key]\n",
    "        else:\n",
    "            print(\"Error: Key is out of range.\")\n",
    "            return None\n",
    "    def delete(self, key):\n",
    "        # Ensure that the key is within the valid range of indices\n",
    "        if 0 <= key < len(self.table):\n",
    "            # Clear the value at the index corresponding to the key\n",
    "            self.table[key] = None\n",
    "        else:\n",
    "            print(\"Error: Key is out of range.\")\n",
    "\n",
    "# Create a Direct Address Table with a size of 100\n",
    "table_size = 100\n",
    "dat = DirectAddressTable(table_size)\n",
    "\n",
    "# Insert data elements with keys into the table\n",
    "dat.insert(5, \"Data A\")\n",
    "dat.insert(12, \"Data B\")\n",
    "dat.insert(30, \"Data C\")\n",
    "\n",
    "# Retrieve data elements using keys\n",
    "data_a = dat.retrieve(5)\n",
    "data_b = dat.retrieve(12)\n",
    "data_c = dat.retrieve(30)\n",
    "\n",
    "# Print the retrieved data\n",
    "print(\"Data A:\", data_a)\n",
    "print(\"Data B:\", data_b)\n",
    "print(\"Data C:\", data_c)\n",
    "\n",
    "\n",
    "# Delete data element with a key\n",
    "dat.delete(12)\n",
    "\n",
    "# Attempt to retrieve deleted data\n",
    "deleted_data = dat.retrieve(12)\n",
    "print(\"Deleted Data (should be None):\", deleted_data)"
   ]
  },
  {
   "cell_type": "markdown",
   "id": "a060cee0",
   "metadata": {},
   "source": [
    "1. Insert\tO(1)\tO(1)\n",
    "2. Retrieve\tO(1)\tO(1)\n",
    "3. Delete\tO(1)\tO(1)\n",
    "4. Initialization\tO(n)\tO(n)\n",
    "# Time     Space "
   ]
  }
 ],
 "metadata": {
  "kernelspec": {
   "display_name": "Python 3",
   "language": "python",
   "name": "python3"
  },
  "language_info": {
   "codemirror_mode": {
    "name": "ipython",
    "version": 3
   },
   "file_extension": ".py",
   "mimetype": "text/x-python",
   "name": "python",
   "nbconvert_exporter": "python",
   "pygments_lexer": "ipython3",
   "version": "3.13.0"
  }
 },
 "nbformat": 4,
 "nbformat_minor": 5
}
