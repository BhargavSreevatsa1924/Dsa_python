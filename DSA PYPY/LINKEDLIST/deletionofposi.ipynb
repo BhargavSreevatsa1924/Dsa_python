{
 "cells": [
  {
   "cell_type": "code",
   "execution_count": 1,
   "id": "cc6b6f83",
   "metadata": {},
   "outputs": [
    {
     "name": "stdout",
     "output_type": "stream",
     "text": [
      "Before Deletion:\n",
      "10 -> 20 -> 30 -> 40 -> 50 -> None\n",
      "After Deletion at position 2:\n",
      "10 -> 20 -> 40 -> 50 -> None\n"
     ]
    }
   ],
   "source": [
    "class Node:\n",
    "    def __init__(self, data):\n",
    "        self.data = data\n",
    "        self.next = None\n",
    "\n",
    "class SinglyLinkedList:\n",
    "    def __init__(self):\n",
    "        self.head = None\n",
    "\n",
    "    def insert_at_end(self, data):\n",
    "        new_node = Node(data)\n",
    "        if not self.head:\n",
    "            self.head = new_node\n",
    "            return\n",
    "        curr = self.head\n",
    "        while curr.next:\n",
    "            curr = curr.next\n",
    "        curr.next = new_node\n",
    "\n",
    "    def delete_at_position(self, position):\n",
    "        if not self.head:\n",
    "            print(\"List is empty\")\n",
    "            return\n",
    "        if position == 0:\n",
    "            self.head = self.head.next\n",
    "            return\n",
    "\n",
    "        curr = self.head\n",
    "        for _ in range(position - 1):\n",
    "            if not curr.next:\n",
    "                print(\"Position out of range\")\n",
    "                return\n",
    "            curr = curr.next\n",
    "\n",
    "        if not curr.next:\n",
    "            print(\"Position out of range\")\n",
    "            return\n",
    "\n",
    "        curr.next = curr.next.next\n",
    "\n",
    "    def display(self):\n",
    "        curr = self.head\n",
    "        while curr:\n",
    "            print(curr.data, end=\" -> \")\n",
    "            curr = curr.next\n",
    "        print(\"None\")\n",
    "\n",
    "\n",
    "# Example usage\n",
    "sll = SinglyLinkedList()\n",
    "for val in [10, 20, 30, 40, 50]:\n",
    "    sll.insert_at_end(val)\n",
    "\n",
    "print(\"Before Deletion:\")\n",
    "sll.display()\n",
    "\n",
    "sll.delete_at_position(2)\n",
    "\n",
    "print(\"After Deletion at position 2:\")\n",
    "sll.display()"
   ]
  }
 ],
 "metadata": {
  "kernelspec": {
   "display_name": "Python 3",
   "language": "python",
   "name": "python3"
  },
  "language_info": {
   "codemirror_mode": {
    "name": "ipython",
    "version": 3
   },
   "file_extension": ".py",
   "mimetype": "text/x-python",
   "name": "python",
   "nbconvert_exporter": "python",
   "pygments_lexer": "ipython3",
   "version": "3.13.0"
  }
 },
 "nbformat": 4,
 "nbformat_minor": 5
}
