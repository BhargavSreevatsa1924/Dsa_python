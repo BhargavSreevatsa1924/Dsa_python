{
 "cells": [
  {
   "cell_type": "code",
   "execution_count": 1,
   "id": "1a7508b5",
   "metadata": {},
   "outputs": [
    {
     "name": "stdout",
     "output_type": "stream",
     "text": [
      "10 -> 20 -> 30 -> (back to head)\n"
     ]
    }
   ],
   "source": [
    "# Creation Of Circular Linked List\n",
    "class Node:\n",
    "    def __init__(self, data):\n",
    "        self.data = data\n",
    "        self.next = None\n",
    "\n",
    "class CircularLinkedList:\n",
    "    def __init__(self):\n",
    "        self.head = None\n",
    "\n",
    "    def append(self, data):\n",
    "        new_node = Node(data)\n",
    "\n",
    "        if not self.head:\n",
    "            self.head = new_node\n",
    "            self.head.next = self.head  # Point to itself\n",
    "        else:\n",
    "            temp = self.head\n",
    "            while temp.next != self.head:\n",
    "                temp = temp.next\n",
    "\n",
    "            temp.next = new_node\n",
    "            new_node.next = self.head\n",
    "    def display(self):\n",
    "        nodes = []\n",
    "        if not self.head:\n",
    "            print(\"List is empty\")\n",
    "            return\n",
    "\n",
    "        temp = self.head\n",
    "        while True:\n",
    "            nodes.append(str(temp.data))\n",
    "            temp = temp.next\n",
    "            if temp == self.head:\n",
    "                break\n",
    "        print(\" -> \".join(nodes) + \" -> (back to head)\")\n",
    "\n",
    "# Example usage\n",
    "cll = CircularLinkedList()\n",
    "cll.append(10)\n",
    "cll.append(20)\n",
    "cll.append(30)\n",
    "cll.display()"
   ]
  },
  {
   "cell_type": "code",
   "execution_count": null,
   "id": "3b0d4b96",
   "metadata": {},
   "outputs": [
    {
     "name": "stdout",
     "output_type": "stream",
     "text": [
      "10 -> 20 -> 30 -> (back to head)\n"
     ]
    }
   ],
   "source": [
    "class Node:\n",
    "    def __init__(self, data):\n",
    "        self.data = data\n",
    "        self.next = None\n",
    "\n",
    "class CircularLinkedList:\n",
    "    def __init__(self):\n",
    "        self.head = None\n",
    "        self.tail = None  # Keep track of the last node\n",
    "\n",
    "    def append(self, data):\n",
    "        new_node = Node(data)\n",
    "        \n",
    "        if not self.head:\n",
    "            self.head = new_node\n",
    "            self.tail = new_node\n",
    "            new_node.next = self.head\n",
    "        else:\n",
    "            self.tail.next = new_node\n",
    "            self.tail = new_node\n",
    "            self.tail.next = self.head  # Maintain circular link\n",
    "\n",
    "    def display(self):\n",
    "        if not self.head:\n",
    "            print(\"List is empty\")\n",
    "            return\n",
    "\n",
    "        temp = self.head\n",
    "        result = []\n",
    "        while True:\n",
    "            result.append(str(temp.data))\n",
    "            temp = temp.next\n",
    "            if temp == self.head:\n",
    "                break\n",
    "        print(\" -> \".join(result) + \" -> (back to head)\")\n",
    "\n",
    "# Example usage\n",
    "cll = CircularLinkedList()\n",
    "cll.append(10)\n",
    "cll.append(20)\n",
    "cll.append(30)\n",
    "cll.display() #OPTIMISED WAY\n",
    "# Time Complexity: O(1)\n",
    "# Space Complexity: O(1)"
   ]
  }
 ],
 "metadata": {
  "kernelspec": {
   "display_name": "Python 3",
   "language": "python",
   "name": "python3"
  },
  "language_info": {
   "codemirror_mode": {
    "name": "ipython",
    "version": 3
   },
   "file_extension": ".py",
   "mimetype": "text/x-python",
   "name": "python",
   "nbconvert_exporter": "python",
   "pygments_lexer": "ipython3",
   "version": "3.13.0"
  }
 },
 "nbformat": 4,
 "nbformat_minor": 5
}
