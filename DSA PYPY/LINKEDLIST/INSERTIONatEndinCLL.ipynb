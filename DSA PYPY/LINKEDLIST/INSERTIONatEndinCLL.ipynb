{
 "cells": [
  {
   "cell_type": "code",
   "execution_count": null,
   "id": "7ac43e38",
   "metadata": {},
   "outputs": [
    {
     "name": "stdout",
     "output_type": "stream",
     "text": [
      "Circular Linked List:\n",
      "1 -> 2\n",
      "2 -> 3\n",
      "3 -> "
     ]
    }
   ],
   "source": [
    "class Node:\n",
    "    def __init__(self, data):\n",
    "        self.data = data\n",
    "        self.next = None\n",
    "\n",
    "class CircularLinkedList:\n",
    "    def __init__(self):\n",
    "        self.head = None\n",
    "\n",
    "    def insert_at_end_naive(self, data):\n",
    "        new_node = Node(data)\n",
    "        \n",
    "        if not self.head:\n",
    "            self.head = new_node\n",
    "            new_node.next = self.head\n",
    "        else:\n",
    "            current = self.head\n",
    "            while current.next != self.head:\n",
    "                current = current.next\n",
    "            current.next = new_node\n",
    "            new_node.next = self.head\n",
    "    def display(self):\n",
    "        if not self.head:\n",
    "            return\n",
    "        current = self.head\n",
    "        while True:\n",
    "            print(current.data, end=\" -> \")\n",
    "            current = current.next\n",
    "            if current == self.head:\n",
    "                break\n",
    "            print(current.data)\n",
    "            \n",
    "# Example usage:\n",
    "clist = CircularLinkedList()\n",
    "clist.insert_at_end_naive(1)\n",
    "clist.insert_at_end_naive(2)\n",
    "clist.insert_at_end_naive(3)\n",
    "\n",
    "print(\"Circular Linked List:\")\n",
    "clist.display() #NAIVE WAY "
   ]
  },
  {
   "cell_type": "code",
   "execution_count": 5,
   "id": "1516c17b",
   "metadata": {},
   "outputs": [
    {
     "name": "stdout",
     "output_type": "stream",
     "text": [
      "Circular Linked List:\n",
      "1 -> 2\n",
      "2 -> 3\n",
      "3 -> "
     ]
    }
   ],
   "source": [
    "class Node:\n",
    "    def __init__(self, data):\n",
    "        self.data = data\n",
    "        self.next = None\n",
    "\n",
    "class CircularLinkedList:\n",
    "    def __init__(self):\n",
    "        self.head = None\n",
    "        self.last = None\n",
    "\n",
    "    def insert_at_end_optimized(self, data):\n",
    "        new_node = Node(data)\n",
    "        \n",
    "        if not self.head:\n",
    "            self.head = new_node\n",
    "            self.head.next = self.head\n",
    "            self.last = self.head\n",
    "        else:\n",
    "            new_node.next = self.head\n",
    "            self.last.next = new_node\n",
    "            self.last = new_node\n",
    "    \n",
    "    def display(self):\n",
    "        if not self.head:\n",
    "            return\n",
    "        current = self.head\n",
    "        while True:\n",
    "            print(current.data, end=\" -> \")\n",
    "            current = current.next\n",
    "            if current == self.head:\n",
    "                break\n",
    "            print(current.data)\n",
    "\n",
    "# Example usage:\n",
    "clist = CircularLinkedList()\n",
    "clist.insert_at_end_optimized(1)\n",
    "clist.insert_at_end_optimized(2)\n",
    "clist.insert_at_end_optimized(3)\n",
    "\n",
    "print(\"Circular Linked List:\")\n",
    "clist.display() \n",
    "# OPTIMISED APPROACH \t    Time Complexity\tSpace Complexity\n",
    "# Insertion at End (Optimized)\tO(1)\t  O(1)\n",
    "# Display                   \tO(n)\tO(1)\n"
   ]
  }
 ],
 "metadata": {
  "kernelspec": {
   "display_name": "Python 3",
   "language": "python",
   "name": "python3"
  },
  "language_info": {
   "codemirror_mode": {
    "name": "ipython",
    "version": 3
   },
   "file_extension": ".py",
   "mimetype": "text/x-python",
   "name": "python",
   "nbconvert_exporter": "python",
   "pygments_lexer": "ipython3",
   "version": "3.13.0"
  }
 },
 "nbformat": 4,
 "nbformat_minor": 5
}
