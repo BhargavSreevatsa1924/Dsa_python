{
 "cells": [
  {
   "cell_type": "code",
   "execution_count": null,
   "id": "9ae63b48",
   "metadata": {},
   "outputs": [
    {
     "name": "stdout",
     "output_type": "stream",
     "text": [
      "7 <-> 8 <-> 6 <-> None\n"
     ]
    }
   ],
   "source": [
    "class Node:\n",
    "    def __init__(self, data):\n",
    "        self.data = data\n",
    "        self.prev = None\n",
    "        self.next = None\n",
    "\n",
    "class DoublyLinkedList:\n",
    "    def __init__(self):\n",
    "        self.head = None\n",
    "\n",
    "    def insert_at_beginning(self, data):\n",
    "        new_node = Node(data)\n",
    "        if self.head is None:\n",
    "            self.head = new_node\n",
    "        else:\n",
    "            new_node.next = self.head\n",
    "            self.head.prev = new_node\n",
    "            self.head = new_node\n",
    "\n",
    "    def display(self):\n",
    "        temp = self.head\n",
    "        while temp:\n",
    "            print(temp.data, end=\" <-> \")\n",
    "            temp = temp.next\n",
    "        print(\"None\")\n",
    "\n",
    "\n",
    "# Example usage\n",
    "dll = DoublyLinkedList()\n",
    "dll.insert_at_beginning(6)\n",
    "dll.insert_at_beginning(8)\n",
    "dll.insert_at_beginning(7)\n",
    "dll.display()\n",
    "# Insertion at Beginning\tO(1)-time\tO(1)-space\n",
    "# Traversal (Display)\tO(n)\tO(1)"
   ]
  },
  {
   "cell_type": "code",
   "execution_count": 2,
   "id": "89b4cc01",
   "metadata": {},
   "outputs": [
    {
     "name": "stdout",
     "output_type": "stream",
     "text": [
      "7 <-> 8 <-> 6 <-> None\n"
     ]
    }
   ],
   "source": [
    "class Node:\n",
    "    def __init__(self, data):\n",
    "        self.data = data\n",
    "        self.prev = None\n",
    "        self.next = None\n",
    "\n",
    "class DoublyLinkedList:\n",
    "    def __init__(self):\n",
    "        self.head = None\n",
    "\n",
    "    def insert_at_end(self, data):\n",
    "        new_node = Node(data)\n",
    "        if self.head is None:\n",
    "            self.head = new_node\n",
    "        else:\n",
    "            temp = self.head\n",
    "            while temp.next:\n",
    "                temp = temp.next\n",
    "            temp.next = new_node\n",
    "            new_node.prev = temp\n",
    "\n",
    "    def display(self):\n",
    "        temp = self.head\n",
    "        while temp:\n",
    "            print(temp.data, end=\" <-> \")\n",
    "            temp = temp.next\n",
    "        print(\"None\")\n",
    "\n",
    "# Example usage\n",
    "dll = DoublyLinkedList()\n",
    "dll.insert_at_end(7)\n",
    "dll.insert_at_end(8)\n",
    "dll.insert_at_end(6)\n",
    "dll.display()"
   ]
  },
  {
   "cell_type": "code",
   "execution_count": 3,
   "id": "f4a04421",
   "metadata": {},
   "outputs": [
    {
     "name": "stdout",
     "output_type": "stream",
     "text": [
      "7 <-> 6 <-> 8 <-> None\n"
     ]
    }
   ],
   "source": [
    "class Node:\n",
    "    def __init__(self, data):\n",
    "        self.data = data\n",
    "        self.prev = None\n",
    "        self.next = None\n",
    "\n",
    "class DoublyLinkedList:\n",
    "    def __init__(self):\n",
    "        self.head = None\n",
    "\n",
    "    def insert_at_position(self, data, position):\n",
    "        new_node = Node(data)\n",
    "        if position == 1:\n",
    "            if self.head:\n",
    "                new_node.next = self.head\n",
    "                self.head.prev = new_node\n",
    "            self.head = new_node\n",
    "            return\n",
    "\n",
    "        temp = self.head\n",
    "        for _ in range(position - 2):\n",
    "            if temp is None:\n",
    "                print(\"Position out of range\")\n",
    "                return\n",
    "            temp = temp.next\n",
    "        if temp is None:\n",
    "            print(\"Position out of range\")\n",
    "            return\n",
    "\n",
    "        new_node.next = temp.next\n",
    "        new_node.prev = temp\n",
    "        if temp.next:\n",
    "            temp.next.prev = new_node\n",
    "        temp.next = new_node\n",
    "\n",
    "    def display(self):\n",
    "        temp = self.head\n",
    "        while temp:\n",
    "            print(temp.data, end=\" <-> \")\n",
    "            temp = temp.next\n",
    "        print(\"None\")\n",
    "\n",
    "# Example usage\n",
    "dll = DoublyLinkedList()\n",
    "dll.insert_at_position(7, 1)  # Insert at position 1\n",
    "dll.insert_at_position(8, 2)  # Insert at position 2\n",
    "dll.insert_at_position(6, 2)  # Insert at position 2\n",
    "dll.display()"
   ]
  }
 ],
 "metadata": {
  "kernelspec": {
   "display_name": "Python 3",
   "language": "python",
   "name": "python3"
  },
  "language_info": {
   "codemirror_mode": {
    "name": "ipython",
    "version": 3
   },
   "file_extension": ".py",
   "mimetype": "text/x-python",
   "name": "python",
   "nbconvert_exporter": "python",
   "pygments_lexer": "ipython3",
   "version": "3.13.0"
  }
 },
 "nbformat": 4,
 "nbformat_minor": 5
}
