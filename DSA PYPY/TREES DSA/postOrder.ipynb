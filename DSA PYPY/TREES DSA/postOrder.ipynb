{
 "cells": [
  {
   "cell_type": "code",
   "execution_count": 1,
   "id": "b71cd2e7",
   "metadata": {},
   "outputs": [
    {
     "name": "stdout",
     "output_type": "stream",
     "text": [
      "Postorder Traversal:\n",
      "3 7 5 12 18 15 10 "
     ]
    }
   ],
   "source": [
    "# using the recursive way\n",
    "class TreeNode:\n",
    "    def __init__(self, value):\n",
    "        self.value = value\n",
    "        self.left = None\n",
    "        self.right = None\n",
    "\n",
    "def postorder_traversal(node):\n",
    "    if node:\n",
    "        # Traverse the left subtree in a postorder fashion\n",
    "        postorder_traversal(node.left)\n",
    "        \n",
    "        # Traverse the right subtree in a postorder fashion\n",
    "        postorder_traversal(node.right)\n",
    "        \n",
    "        # Visit (process) the current node\n",
    "        print(node.value, end=\" \")  # Print the node value, separated by a space\n",
    "\n",
    "# Create a binary tree with different numbers and perform a postorder traversal\n",
    "root = TreeNode(10)\n",
    "root.left = TreeNode(5)\n",
    "root.right = TreeNode(15)\n",
    "root.left.left = TreeNode(3)\n",
    "root.left.right = TreeNode(7)\n",
    "root.right.left = TreeNode(12)\n",
    "root.right.right = TreeNode(18)\n",
    "\n",
    "print(\"Postorder Traversal:\")\n",
    "postorder_traversal(root)"
   ]
  },
  {
   "cell_type": "code",
   "execution_count": 2,
   "id": "b21accc1",
   "metadata": {},
   "outputs": [
    {
     "name": "stdout",
     "output_type": "stream",
     "text": [
      "Postorder Traversal:\n",
      "[3, 7, 5, 12, 18, 15, 10]\n"
     ]
    }
   ],
   "source": [
    "# using iterative Stack\n",
    "class TreeNode:\n",
    "    def __init__(self, value):\n",
    "        self.value = value\n",
    "        self.left = None\n",
    "        self.right = None\n",
    "\n",
    "def postorder_iterative(root):\n",
    "    if not root:\n",
    "        return []\n",
    "\n",
    "    result = []\n",
    "    stack = []\n",
    "    current = root\n",
    "\n",
    "    while stack or current:\n",
    "        if current:\n",
    "            if current.right:\n",
    "                stack.append(current.right)\n",
    "            stack.append(current)\n",
    "            current = current.left\n",
    "        else:\n",
    "            node = stack.pop()\n",
    "            if node.right and stack and node.right == stack[-1]:\n",
    "                stack.pop()\n",
    "                stack.append(node)\n",
    "                current = node.right\n",
    "            else:\n",
    "                 result.append(node.value)\n",
    "\n",
    "    return result\n",
    "\n",
    "# Create a binary tree with different numbers and perform an iterative postorder traversal\n",
    "root = TreeNode(10)\n",
    "root.left = TreeNode(5)\n",
    "root.right = TreeNode(15)\n",
    "root.left.left = TreeNode(3)\n",
    "root.left.right = TreeNode(7)\n",
    "root.right.left = TreeNode(12)\n",
    "root.right.right = TreeNode(18)\n",
    "\n",
    "print(\"Postorder Traversal:\")\n",
    "result = postorder_iterative(root)\n",
    "print(result)"
   ]
  }
 ],
 "metadata": {
  "kernelspec": {
   "display_name": "Python 3",
   "language": "python",
   "name": "python3"
  },
  "language_info": {
   "codemirror_mode": {
    "name": "ipython",
    "version": 3
   },
   "file_extension": ".py",
   "mimetype": "text/x-python",
   "name": "python",
   "nbconvert_exporter": "python",
   "pygments_lexer": "ipython3",
   "version": "3.13.0"
  }
 },
 "nbformat": 4,
 "nbformat_minor": 5
}
