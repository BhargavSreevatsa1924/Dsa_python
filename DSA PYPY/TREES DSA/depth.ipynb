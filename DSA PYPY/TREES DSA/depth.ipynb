{
 "cells": [
  {
   "cell_type": "code",
   "execution_count": 1,
   "id": "2c3d0691",
   "metadata": {},
   "outputs": [
    {
     "name": "stdout",
     "output_type": "stream",
     "text": [
      "Depth of node 5: 2\n"
     ]
    }
   ],
   "source": [
    "class TreeNode:\n",
    "    def __init__(self, value):\n",
    "        self.value = value\n",
    "        self.left = None\n",
    "        self.right = None\n",
    "\n",
    "def node_depth(root, key, depth=0):\n",
    "    if root is None:\n",
    "        return -1  # Node not found\n",
    "    if root.value == key:\n",
    "        return depth\n",
    "\n",
    "    left_depth = node_depth(root.left, key, depth + 1)\n",
    "    if left_depth != -1:\n",
    "        return left_depth\n",
    "\n",
    "    right_depth = node_depth(root.right, key, depth + 1)\n",
    "    return right_depth\n",
    "\n",
    "# Example usage:\n",
    "root = TreeNode(1)\n",
    "root.left = TreeNode(2)\n",
    "root.right = TreeNode(3)\n",
    "root.left.left = TreeNode(4)\n",
    "root.left.right = TreeNode(5)\n",
    "root.right.left = TreeNode(6)\n",
    "\n",
    "node_value = 5\n",
    "depth = node_depth(root, node_value)\n",
    "if depth != -1:\n",
    "    print(\"Depth of node \" + str(node_value) + \": \" + str(depth))\n",
    "else:\n",
    "    print(\"Node \" + str(node_value) + \" not found in the tree.\")"
   ]
  }
 ],
 "metadata": {
  "kernelspec": {
   "display_name": "Python 3",
   "language": "python",
   "name": "python3"
  },
  "language_info": {
   "codemirror_mode": {
    "name": "ipython",
    "version": 3
   },
   "file_extension": ".py",
   "mimetype": "text/x-python",
   "name": "python",
   "nbconvert_exporter": "python",
   "pygments_lexer": "ipython3",
   "version": "3.13.0"
  }
 },
 "nbformat": 4,
 "nbformat_minor": 5
}
