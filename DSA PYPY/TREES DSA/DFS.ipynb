{
 "cells": [
  {
   "cell_type": "markdown",
   "id": "193dd717",
   "metadata": {},
   "source": [
    "Depth-First Traversal (DFS)\n",
    "* Depth-first traversal is a technique that explores as far as possible along a branch of the tree before backtracking.\n",
    "\n",
    "* It can be implemented using three main approaches:\n",
    "1. Preorder traversal\n",
    "2. Inorder traversal\n",
    "3. Postorder traversa "
   ]
  },
  {
   "cell_type": "code",
   "execution_count": null,
   "id": "617ae19a",
   "metadata": {},
   "outputs": [
    {
     "name": "stdout",
     "output_type": "stream",
     "text": [
      "Preorder traversal:\n",
      "1\n",
      "2\n",
      "4\n",
      "5\n",
      "3\n"
     ]
    }
   ],
   "source": [
    "# PREORDER\n",
    "class TreeNode:\n",
    "    def __init__(self, value):\n",
    "        self.val = value\n",
    "        self.left = None\n",
    "        self.right = None\n",
    "\n",
    "def preorder_traversal(node):\n",
    "    if node is not None:\n",
    "        # Visit the current node\n",
    "        print(node.val)\n",
    "        \n",
    "        # Traverse the left subtree\n",
    "        preorder_traversal(node.left)\n",
    "        \n",
    "        # Traverse the right subtree\n",
    "        preorder_traversal(node.right)\n",
    "\n",
    "# Create a sample binary tree\n",
    "root = TreeNode(1)\n",
    "root.left = TreeNode(2)\n",
    "root.right = TreeNode(3)\n",
    "root.left.left = TreeNode(4)\n",
    "root.left.right = TreeNode(5)\n",
    "\n",
    "# Perform preorder traversal\n",
    "print(\"Preorder traversal:\")\n",
    "preorder_traversal(root) # the order is root -> left -> right before backtracking"
   ]
  },
  {
   "cell_type": "code",
   "execution_count": null,
   "id": "a39571aa",
   "metadata": {},
   "outputs": [
    {
     "name": "stdout",
     "output_type": "stream",
     "text": [
      "Inorder traversal (Example):\n",
      "5 10 12 15 17 20 25 "
     ]
    }
   ],
   "source": [
    "# INORDER\n",
    "class TreeNode:\n",
    "    def __init__(self, value):\n",
    "        self.val = value\n",
    "        self.left = None\n",
    "        self.right = None\n",
    "\n",
    "def inorder_traversal(node):\n",
    "    if node is not None:\n",
    "        # Traverse the left subtree\n",
    "        inorder_traversal(node.left)\n",
    "        \n",
    "        # Visit the current node\n",
    "        print(node.val, end=\" \")\n",
    "        \n",
    "        # Traverse the right subtree\n",
    "        inorder_traversal(node.right)\n",
    "\n",
    "#Creating a simple Binary Tree\n",
    "root = TreeNode(15)\n",
    "root.left = TreeNode(10)\n",
    "root.right = TreeNode(20)\n",
    "root.left.left = TreeNode(5)\n",
    "root.left.right = TreeNode(12)\n",
    "root.right.left = TreeNode(17)\n",
    "root.right.right = TreeNode(25)\n",
    "\n",
    "# Perform inorder traversal on the tree\n",
    "print(\"Inorder traversal (Example):\")\n",
    "inorder_traversal(root) # ORDER - left, root, right"
   ]
  },
  {
   "cell_type": "code",
   "execution_count": null,
   "id": "9fde5f94",
   "metadata": {},
   "outputs": [
    {
     "name": "stdout",
     "output_type": "stream",
     "text": [
      "Postorder traversal (Example):\n",
      "1 4 7 6 3 13 14 10 8 "
     ]
    }
   ],
   "source": [
    "class TreeNode:\n",
    "    def __init__(self, value):\n",
    "        self.val = value\n",
    "        self.left = None\n",
    "        self.right = None\n",
    "\n",
    "def postorder_traversal(node):\n",
    "    if node is not None:\n",
    "        # Traverse the left subtree\n",
    "        postorder_traversal(node.left)\n",
    "        \n",
    "        # Traverse the right subtree\n",
    "        postorder_traversal(node.right)\n",
    "        \n",
    "        # Visit the current node\n",
    "        print(node.val, end=\" \")\n",
    "\n",
    "# Create a sample binary tree\n",
    "root = TreeNode(8)\n",
    "root.left = TreeNode(3)\n",
    "root.right = TreeNode(10)\n",
    "root.left.left = TreeNode(1)\n",
    "root.left.right = TreeNode(6)\n",
    "root.left.right.left = TreeNode(4)\n",
    "root.left.right.right = TreeNode(7)\n",
    "root.right.right = TreeNode(14)\n",
    "root.right.right.left = TreeNode(13)\n",
    "\n",
    "# Perform postorder traversal on the tree\n",
    "print(\"Postorder traversal (Example):\")\n",
    "postorder_traversal(root) # order - left,right,root"
   ]
  }
 ],
 "metadata": {
  "kernelspec": {
   "display_name": "Python 3",
   "language": "python",
   "name": "python3"
  },
  "language_info": {
   "codemirror_mode": {
    "name": "ipython",
    "version": 3
   },
   "file_extension": ".py",
   "mimetype": "text/x-python",
   "name": "python",
   "nbconvert_exporter": "python",
   "pygments_lexer": "ipython3",
   "version": "3.13.0"
  }
 },
 "nbformat": 4,
 "nbformat_minor": 5
}
