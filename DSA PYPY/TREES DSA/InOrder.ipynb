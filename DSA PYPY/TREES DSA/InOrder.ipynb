{
 "cells": [
  {
   "cell_type": "code",
   "execution_count": 4,
   "id": "b07cca5d",
   "metadata": {},
   "outputs": [
    {
     "name": "stdout",
     "output_type": "stream",
     "text": [
      "4\n",
      "2\n",
      "5\n",
      "1\n",
      "3\n"
     ]
    }
   ],
   "source": [
    "# recursive way\n",
    "class TreeNode:\n",
    "    def __init__(self, value):\n",
    "        self.val = value\n",
    "        self.left = None\n",
    "        self.right = None\n",
    "\n",
    "def inorderTraversal(node):\n",
    "    if node is not None:\n",
    "        # Recursively traverse the left subtree\n",
    "        inorderTraversal(node.left)\n",
    "        # Visit (or process) the current node\n",
    "        print(node.val)\n",
    "        # Recursively traverse the right subtree\n",
    "        inorderTraversal(node.right)\n",
    "\n",
    "# Construct your binary tree\n",
    "root = TreeNode(1)\n",
    "root.left = TreeNode(2)\n",
    "root.right = TreeNode(3)\n",
    "root.left.left = TreeNode(4)\n",
    "root.left.right = TreeNode(5)\n",
    "\n",
    "# Perform the inorder traversal\n",
    "inorderTraversal(root)\n"
   ]
  },
  {
   "cell_type": "code",
   "execution_count": 5,
   "id": "dc738415",
   "metadata": {},
   "outputs": [
    {
     "name": "stdout",
     "output_type": "stream",
     "text": [
      "1 3 6 8 10 "
     ]
    }
   ],
   "source": [
    "# iterative ( stack)\n",
    "class TreeNode:\n",
    "    def __init__(self, value):\n",
    "        self.val = value\n",
    "        self.left = None\n",
    "        self.right = None\n",
    "\n",
    "def inorderTraversalIterative(root):\n",
    "    stack = []\n",
    "    current = root\n",
    "\n",
    "    while current is not None or stack:\n",
    "        while current is not None:\n",
    "            stack.append(current)\n",
    "            current = current.left  # Traverse the left subtree\n",
    "        current = stack.pop()\n",
    "        print(current.val, end=' ')  # Print the value with a space\n",
    "        current = current.right  # Traverse the right subtree\n",
    "\n",
    "# Construct your binary tree with different values\n",
    "root = TreeNode(8)\n",
    "root.left = TreeNode(3)\n",
    "root.right = TreeNode(10)\n",
    "root.left.left = TreeNode(1)\n",
    "root.left.right = TreeNode(6)\n",
    "\n",
    "# Perform the inorder traversal\n",
    "inorderTraversalIterative(root)"
   ]
  }
 ],
 "metadata": {
  "kernelspec": {
   "display_name": "Python 3",
   "language": "python",
   "name": "python3"
  },
  "language_info": {
   "codemirror_mode": {
    "name": "ipython",
    "version": 3
   },
   "file_extension": ".py",
   "mimetype": "text/x-python",
   "name": "python",
   "nbconvert_exporter": "python",
   "pygments_lexer": "ipython3",
   "version": "3.13.0"
  }
 },
 "nbformat": 4,
 "nbformat_minor": 5
}
