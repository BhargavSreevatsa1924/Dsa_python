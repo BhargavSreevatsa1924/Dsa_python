{
 "cells": [
  {
   "cell_type": "code",
   "execution_count": 1,
   "id": "b1ea1c98",
   "metadata": {},
   "outputs": [
    {
     "name": "stdout",
     "output_type": "stream",
     "text": [
      "The 3 th smallest element is 4\n"
     ]
    }
   ],
   "source": [
    "class TreeNode:\n",
    "    def __init__(self, val=0, left=None, right=None):\n",
    "        self.val = val\n",
    "        self.left = left\n",
    "        self.right = right\n",
    "\n",
    "def kth_smallest(root, k):\n",
    "    def inorder_traversal(node):\n",
    "        nonlocal k, result\n",
    "        if not node:\n",
    "            return\n",
    "        \n",
    "        # Traverse the left subtree\n",
    "        inorder_traversal(node.left)\n",
    "        \n",
    "        # Process the current node\n",
    "        k -= 1\n",
    "        if k == 0:\n",
    "            result = node.val\n",
    "            return\n",
    "        \n",
    "        # Traverse the right subtree\n",
    "        inorder_traversal(node.right)\n",
    "    \n",
    "    result = None\n",
    "    inorder_traversal(root)\n",
    "    return result\n",
    "\n",
    "# Example usage:\n",
    "if __name__ == \"__main__\":\n",
    "    root = TreeNode(5)\n",
    "    root.left = TreeNode(3)\n",
    "    root.right = TreeNode(8)\n",
    "    root.left.left = TreeNode(1)\n",
    "    root.left.right = TreeNode(4)\n",
    "    \n",
    "    k = 3\n",
    "    result = kth_smallest(root, k)\n",
    "    print(\"The\", k, \"th smallest element is\", result)"
   ]
  },
  {
   "cell_type": "code",
   "execution_count": 4,
   "id": "f1721be2",
   "metadata": {},
   "outputs": [
    {
     "name": "stdout",
     "output_type": "stream",
     "text": [
      "The 3 th smallest element is 1\n"
     ]
    }
   ],
   "source": [
    "# Using Any Tree Traversal :\n",
    "class TreeNode:\n",
    "    def __init__(self, val=0, left=None, right=None):\n",
    "        self.val = val\n",
    "        self.left = left\n",
    "        self.right = right\n",
    "\n",
    "def kth_smallest(root, k):\n",
    "    def preorder_traversal(node):\n",
    "        nonlocal k, result\n",
    "        if not node:\n",
    "            return\n",
    "        \n",
    "        # Process the current node\n",
    "        k -= 1\n",
    "        if k == 0:\n",
    "            result = node.val\n",
    "            return\n",
    "        \n",
    "        # Traverse the left subtree\n",
    "        preorder_traversal(node.left)\n",
    "        \n",
    "        # Traverse the right subtree\n",
    "        preorder_traversal(node.right)\n",
    "    result = None\n",
    "    preorder_traversal(root)\n",
    "    return result\n",
    "\n",
    "# Example usage:\n",
    "if __name__ == \"__main__\":\n",
    "    root = TreeNode(5)\n",
    "    root.left = TreeNode(3)\n",
    "    root.right = TreeNode(8)\n",
    "    root.left.left = TreeNode(1)\n",
    "    root.left.right = TreeNode(4)\n",
    "    \n",
    "    k = 3\n",
    "    result = kth_smallest(root, k)\n",
    "    print(\"The\", k, \"th smallest element is\", result)\n"
   ]
  }
 ],
 "metadata": {
  "kernelspec": {
   "display_name": "Python 3",
   "language": "python",
   "name": "python3"
  },
  "language_info": {
   "codemirror_mode": {
    "name": "ipython",
    "version": 3
   },
   "file_extension": ".py",
   "mimetype": "text/x-python",
   "name": "python",
   "nbconvert_exporter": "python",
   "pygments_lexer": "ipython3",
   "version": "3.13.0"
  }
 },
 "nbformat": 4,
 "nbformat_minor": 5
}
