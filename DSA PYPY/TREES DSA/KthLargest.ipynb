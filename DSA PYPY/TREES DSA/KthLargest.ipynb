{
 "cells": [
  {
   "cell_type": "code",
   "execution_count": null,
   "id": "8ccf69d0",
   "metadata": {},
   "outputs": [
    {
     "name": "stdout",
     "output_type": "stream",
     "text": [
      "The 4 th largest element (recursive approach) is 3\n"
     ]
    }
   ],
   "source": [
    "# recursive\n",
    "class TreeNode:\n",
    "    def __init__(self, val=0, left=None, right=None):\n",
    "        self.val = val\n",
    "        self.left = left\n",
    "        self.right = right\n",
    "\n",
    "def kth_largest_recursive(root, k):\n",
    "    def reverse_inorder_traversal(node):\n",
    "        nonlocal k, result\n",
    "        if not node or k == 0:\n",
    "            return\n",
    "        \n",
    "        # Traverse the right subtree first\n",
    "        reverse_inorder_traversal(node.right)\n",
    "        \n",
    "        # Process the current node\n",
    "        k -= 1\n",
    "        if k == 0:\n",
    "            result = node.val\n",
    "            return\n",
    "        \n",
    "        # Traverse the left subtree\n",
    "        reverse_inorder_traversal(node.left)\n",
    "    \n",
    "    result = None\n",
    "    reverse_inorder_traversal(root)\n",
    "    return result# Example usage:\n",
    "if __name__ == \"__main__\":\n",
    "    root = TreeNode(7)\n",
    "    root.left = TreeNode(3)\n",
    "    root.right = TreeNode(10)\n",
    "    root.left.left = TreeNode(1)\n",
    "    root.left.right = TreeNode(5)\n",
    "    \n",
    "    k = 4\n",
    "    \n",
    "    result_recursive = kth_largest_recursive(root, k)\n",
    "    print(\"The\", k, \"th largest element (recursive approach) is\", result_recursive)\n",
    "\n"
   ]
  },
  {
   "cell_type": "code",
   "execution_count": null,
   "id": "ee83fa01",
   "metadata": {},
   "outputs": [
    {
     "name": "stdout",
     "output_type": "stream",
     "text": [
      "The 4 th largest element (iterative approach) is 3\n"
     ]
    }
   ],
   "source": [
    "# iterative\n",
    "class TreeNode:\n",
    "    def __init__(self, val=0, left=None, right=None):\n",
    "        self.val = val\n",
    "        self.left = left\n",
    "        self.right = right\n",
    "\n",
    "def kth_largest_iterative(root, k):\n",
    "    stack = []\n",
    "    current = root\n",
    "    \n",
    "    while True:\n",
    "        while current:\n",
    "            stack.append(current)\n",
    "            current = current.right\n",
    "        \n",
    "        current = stack.pop()\n",
    "        k -= 1\n",
    "        \n",
    "        if k == 0:\n",
    "            return current.val\n",
    "        \n",
    "        current = current.left\n",
    "        \n",
    "# Example usage:\n",
    "if __name__ == \"__main__\":\n",
    "    root = TreeNode(7)\n",
    "    root.left = TreeNode(3)\n",
    "    root.right = TreeNode(10)\n",
    "    root.left.left = TreeNode(1)\n",
    "    root.left.right = TreeNode(5)\n",
    "    \n",
    "    k = 4\n",
    "    \n",
    "    result_iterative = kth_largest_iterative(root, k)\n",
    "    print(\"The\", k, \"th largest element (iterative approach) is\", result_iterative)"
   ]
  }
 ],
 "metadata": {
  "kernelspec": {
   "display_name": "Python 3",
   "language": "python",
   "name": "python3"
  },
  "language_info": {
   "codemirror_mode": {
    "name": "ipython",
    "version": 3
   },
   "file_extension": ".py",
   "mimetype": "text/x-python",
   "name": "python",
   "nbconvert_exporter": "python",
   "pygments_lexer": "ipython3",
   "version": "3.13.0"
  }
 },
 "nbformat": 4,
 "nbformat_minor": 5
}
