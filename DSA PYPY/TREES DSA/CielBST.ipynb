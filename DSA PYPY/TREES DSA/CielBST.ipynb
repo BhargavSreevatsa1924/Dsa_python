{
 "cells": [
  {
   "cell_type": "code",
   "execution_count": null,
   "id": "54790800",
   "metadata": {},
   "outputs": [
    {
     "name": "stdout",
     "output_type": "stream",
     "text": [
      "Ceil of 45 is 50 .\n"
     ]
    }
   ],
   "source": [
    "class TreeNode:\n",
    "    def __init__(self, key):\n",
    "        self.key = key\n",
    "        self.left = None\n",
    "        self.right = None\n",
    "\n",
    "def find_ceil(root, target):\n",
    "    ceil_value = None\n",
    "    current = root\n",
    "\n",
    "    while current:\n",
    "        if target == current.key:\n",
    "            return current.key\n",
    "        elif target < current.key:\n",
    "            ceil_value = current.key\n",
    "            current = current.left\n",
    "        else:\n",
    "            current = current.right\n",
    "\n",
    "    return ceil_value\n",
    "\n",
    "# Example usage:\n",
    "if __name__ == \"__main__\":\n",
    "    root = TreeNode(50)\n",
    "    root.left = TreeNode(30)\n",
    "    root.right = TreeNode(70)\n",
    "    root.left.left = TreeNode(20)\n",
    "    root.left.right = TreeNode(40)\n",
    "    root.right.left = TreeNode(60)\n",
    "    root.right.right = TreeNode(80)\n",
    "\n",
    "    target_value = 45\n",
    "    result = find_ceil(root, target_value)\n",
    "\n",
    "    if result is not None:\n",
    "        print(\"Ceil of\", target_value, \"is\", result, \".\")\n",
    "    else:\n",
    "        print(\"No ceil found for\", target_value, \".\")\n",
    "\n",
    "# Time Complexity:\n",
    "# O(h) → h is the height of the BST\n",
    "# O(log n) for balanced BST\n",
    "# O(n) for skewed BST \n",
    "# O(1) → uses constant space (no recursion or extra data structures)\n"
   ]
  },
  {
   "cell_type": "code",
   "execution_count": 2,
   "id": "3cf8382e",
   "metadata": {},
   "outputs": [
    {
     "name": "stdout",
     "output_type": "stream",
     "text": [
      "Ceil of 55 is 60 .\n"
     ]
    }
   ],
   "source": [
    "class TreeNode:\n",
    "    def __init__(self, key):\n",
    "        self.key = key\n",
    "        self.left = None\n",
    "        self.right = None\n",
    "\n",
    "def find_ceil(root, target):\n",
    "    ceil_value = None\n",
    "    current = root\n",
    "\n",
    "    while current:\n",
    "        if target == current.key:\n",
    "            return current.key\n",
    "        elif target < current.key:\n",
    "            ceil_value = current.key\n",
    "            current = current.left\n",
    "        else:\n",
    "            current = current.right\n",
    "\n",
    "    return ceil_value\n",
    "\n",
    "# Example usage:\n",
    "if __name__ == \"__main__\":\n",
    "    root = TreeNode(70)\n",
    "    root.left = TreeNode(40)\n",
    "    root.right = TreeNode(90)\n",
    "    root.left.left = TreeNode(20)\n",
    "    root.left.right = TreeNode(60)\n",
    "    root.right.left = TreeNode(80)\n",
    "    root.right.right = TreeNode(100)\n",
    "\n",
    "    target_value = 55\n",
    "    result = find_ceil(root, target_value)\n",
    "\n",
    "    if result is not None:\n",
    "        print(\"Ceil of\", target_value, \"is\", result, \".\")\n",
    "    else:\n",
    "        print(\"No ceil found for\", target_value, \".\")"
   ]
  }
 ],
 "metadata": {
  "kernelspec": {
   "display_name": "Python 3",
   "language": "python",
   "name": "python3"
  },
  "language_info": {
   "codemirror_mode": {
    "name": "ipython",
    "version": 3
   },
   "file_extension": ".py",
   "mimetype": "text/x-python",
   "name": "python",
   "nbconvert_exporter": "python",
   "pygments_lexer": "ipython3",
   "version": "3.13.0"
  }
 },
 "nbformat": 4,
 "nbformat_minor": 5
}
