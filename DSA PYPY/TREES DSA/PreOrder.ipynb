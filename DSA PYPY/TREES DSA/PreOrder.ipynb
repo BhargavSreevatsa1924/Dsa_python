{
 "cells": [
  {
   "cell_type": "code",
   "execution_count": 5,
   "id": "0d943617",
   "metadata": {},
   "outputs": [
    {
     "name": "stdout",
     "output_type": "stream",
     "text": [
      "10\n",
      "5\n",
      "3\n",
      "7\n",
      "15\n",
      "12\n",
      "18\n"
     ]
    }
   ],
   "source": [
    "# using recursion\n",
    "class TreeNode:\n",
    "    def __init__(self, value):\n",
    "        self.value = value\n",
    "        self.left = None\n",
    "        self.right = None\n",
    "\n",
    "def recursive_preorder_traversal(node):\n",
    "    if node is not None:\n",
    "        # 1. Visit the current node\n",
    "        print(node.value)\n",
    "        \n",
    "        # 2. Recursively traverse the left subtree\n",
    "        recursive_preorder_traversal(node.left)\n",
    "        \n",
    "        # 3. Recursively traverse the right subtree\n",
    "        recursive_preorder_traversal(node.right)\n",
    "\n",
    "\n",
    "root = TreeNode(10)\n",
    "root.left = TreeNode(5)\n",
    "root.right = TreeNode(15)\n",
    "root.left.left = TreeNode(3)\n",
    "root.left.right = TreeNode(7)\n",
    "root.right.left = TreeNode(12)\n",
    "root.right.right = TreeNode(18)\n",
    "recursive_preorder_traversal(root)"
   ]
  },
  {
   "cell_type": "code",
   "execution_count": 6,
   "id": "436628b3",
   "metadata": {},
   "outputs": [
    {
     "name": "stdout",
     "output_type": "stream",
     "text": [
      "10\n",
      "5\n",
      "3\n",
      "7\n",
      "15\n",
      "12\n",
      "18\n"
     ]
    }
   ],
   "source": [
    "def morris_preorder_traversal(root):\n",
    "    current = root\n",
    "    \n",
    "    while current is not None:\n",
    "        if current.left is None:\n",
    "            # 1. Visit the current node\n",
    "            print(current.value)\n",
    "            current = current.right\n",
    "        else:\n",
    "            # Find the rightmost node in the left subtree\n",
    "            predecessor = current.left\n",
    "            while (predecessor.right is not None) and (predecessor.right != current):\n",
    "                predecessor = predecessor.right\n",
    "            \n",
    "            if predecessor.right is None:\n",
    "                # Make the threaded link from predecessor to the current node\n",
    "                predecessor.right = current\n",
    "                # 2. Visit the current node\n",
    "                print(current.value)\n",
    "                current = current.left\n",
    "            else:\n",
    "                # Remove the threaded link\n",
    "                predecessor.right = None\n",
    "                current = current.right\n",
    "\n",
    "\n",
    "root = TreeNode(10)\n",
    "root.left = TreeNode(5)\n",
    "root.right = TreeNode(15)\n",
    "root.left.left = TreeNode(3)\n",
    "root.left.right = TreeNode(7)\n",
    "root.right.left = TreeNode(12)\n",
    "root.right.right = TreeNode(18)\n",
    "morris_preorder_traversal(root)"
   ]
  }
 ],
 "metadata": {
  "kernelspec": {
   "display_name": "Python 3",
   "language": "python",
   "name": "python3"
  },
  "language_info": {
   "codemirror_mode": {
    "name": "ipython",
    "version": 3
   },
   "file_extension": ".py",
   "mimetype": "text/x-python",
   "name": "python",
   "nbconvert_exporter": "python",
   "pygments_lexer": "ipython3",
   "version": "3.13.0"
  }
 },
 "nbformat": 4,
 "nbformat_minor": 5
}
