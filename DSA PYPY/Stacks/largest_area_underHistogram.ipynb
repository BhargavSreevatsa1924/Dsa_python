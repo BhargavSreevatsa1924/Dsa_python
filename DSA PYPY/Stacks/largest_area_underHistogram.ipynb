{
 "cells": [
  {
   "cell_type": "markdown",
   "id": "4f2b80be",
   "metadata": {},
   "source": [
    "naive way"
   ]
  },
  {
   "cell_type": "code",
   "execution_count": null,
   "id": "a4bc7ad5",
   "metadata": {},
   "outputs": [
    {
     "name": "stdout",
     "output_type": "stream",
     "text": [
      "Max Area:  12\n"
     ]
    }
   ],
   "source": [
    "# LARGEST REACTANGULAR AREA UNDER HISTOGRAM\n",
    "def maxArea(arr, size):\n",
    "    res = 0\n",
    "\n",
    "    for i in range(size):\n",
    "        count = 1\n",
    "        for j in range(i-1, -1, -1):\n",
    "            if arr[j] >= arr[i]:\n",
    "                count +=1\n",
    "            else:\n",
    "                break\n",
    "\n",
    "        for j in range(i+1,size):\n",
    "            if arr[j] >= arr[i]:\n",
    "                count +=1\n",
    "            else :\n",
    "                break\n",
    "\n",
    "        temp = count * arr[i]\n",
    "        res = max(res, temp)\n",
    "\n",
    "    return res\n",
    "\n",
    "# Driver code\n",
    "arr = [12, 3, 4, 4, 1, 5, 7]\n",
    "print(\"Max Area: \", maxArea(arr,(len(arr))))"
   ]
  },
  {
   "cell_type": "code",
   "execution_count": 5,
   "id": "454d2049",
   "metadata": {},
   "outputs": [
    {
     "name": "stdout",
     "output_type": "stream",
     "text": [
      "Maximum rectangle is:  8\n"
     ]
    }
   ],
   "source": [
    "#Largest Rectangle with all 1\\'s - Code: \n",
    "def largestHistRow(arr):\n",
    "    result = []\n",
    "    top_val = 0\n",
    "    max_area = 0\n",
    "\n",
    "    area = 0\n",
    "\n",
    "    i = 0\n",
    "    while i < len(arr):\n",
    "        if (len(result) == 0) or (arr[result[-1]] <= arr[i]):\n",
    "            result.append(i)\n",
    "            i += 1\n",
    "        else:\n",
    "            top_val = arr[result.pop()]\n",
    "            area = top_val * i\n",
    "\n",
    "            if len(result):\n",
    "                area = top_val * (i - result[-1] - 1)\n",
    "            max_area = max(area, max_area)\n",
    "\n",
    "    while len(result):\n",
    "        top_val = arr[result.pop()]\n",
    "        area = top_val * i\n",
    "        if len(result):\n",
    "            area = top_val * (i - result[-1] - 1)\n",
    "\n",
    "        max_area = max(area, max_area)\n",
    "\n",
    "    return max_area\n",
    "\n",
    "\n",
    "def maxRectangle(arr):\n",
    "    result = largestHistRow(arr[0])\n",
    "\n",
    "    for i in range(1, len(arr)):\n",
    "\n",
    "        for j in range(len(arr[i])):\n",
    "            if arr[i][j]:\n",
    "                arr[i][j] += arr[i - 1][j]\n",
    "\n",
    "        result = max(result, largestHistRow(arr[i]))\n",
    "\n",
    "    return result\n",
    "\n",
    "\n",
    "# Driver code\n",
    "arr = [[0, 1, 1, 0],\n",
    "       [1, 1, 1, 1],\n",
    "       [1, 1, 1, 1],\n",
    "       [1, 1, 0, 0]]\n",
    "\n",
    "print(\"Maximum rectangle is: \", maxRectangle(arr))"
   ]
  }
 ],
 "metadata": {
  "kernelspec": {
   "display_name": "Python 3",
   "language": "python",
   "name": "python3"
  },
  "language_info": {
   "codemirror_mode": {
    "name": "ipython",
    "version": 3
   },
   "file_extension": ".py",
   "mimetype": "text/x-python",
   "name": "python",
   "nbconvert_exporter": "python",
   "pygments_lexer": "ipython3",
   "version": "3.13.0"
  }
 },
 "nbformat": 4,
 "nbformat_minor": 5
}
