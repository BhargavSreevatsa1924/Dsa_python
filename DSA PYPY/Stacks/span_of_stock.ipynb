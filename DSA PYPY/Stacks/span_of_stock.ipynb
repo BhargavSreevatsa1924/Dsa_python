{
 "cells": [
  {
   "cell_type": "markdown",
   "id": "755a3a89",
   "metadata": {},
   "source": [
    "Naive Way"
   ]
  },
  {
   "cell_type": "code",
   "execution_count": null,
   "id": "e1d6a08f",
   "metadata": {},
   "outputs": [],
   "source": [
    "# naive way  # Time Complexity is : O(n^2)\n",
    "# Space Complexity is : O(1)\n",
    "\n",
    "def stockSpan(arr):\n",
    "    for i in range(len(arr)):\n",
    "        curr_span = 1\n",
    "        j = i - 1\n",
    "        while j >= 0 and arr[j] <= arr[i]:\n",
    "            curr_span += 1\n",
    "            j -= 1\n",
    "        print(curr_span, end=\" \")\n",
    "\n",
    "\n",
    "# Driver Code\n",
    "arr = [12, 14, 15, 7, 15, 17, 5]\n",
    "stockSpan(arr)"
   ]
  },
  {
   "cell_type": "markdown",
   "id": "8fc6229b",
   "metadata": {},
   "source": [
    "Optimised Way"
   ]
  },
  {
   "cell_type": "code",
   "execution_count": 1,
   "id": "a493322e",
   "metadata": {},
   "outputs": [
    {
     "name": "stdout",
     "output_type": "stream",
     "text": [
      "1 1 2 3 1 1 1 4 8 1 11 "
     ]
    }
   ],
   "source": [
    "from collections import deque\n",
    "def stockSpan(arr):\n",
    "    stack = deque()\n",
    "    stack.append(0)\n",
    "    print(1, end=\" \")\n",
    "\n",
    "    for i in range(1, len(arr)):\n",
    "        while len(stack) != 0 and arr[stack[-1]] <= arr[i]:\n",
    "            stack.pop()\n",
    "\n",
    "        if len(stack) == 0:\n",
    "            print(i + 1, end=\" \")\n",
    "        else:\n",
    "            print(i - stack[-1], end=\" \")\n",
    "\n",
    "        stack.append(i)\n",
    "\n",
    "\n",
    "# Driver code\n",
    "arr = [100, 20, 30, 60, 38, 36, 32, 55, 80, 50, 120]\n",
    "stockSpan(arr)"
   ]
  }
 ],
 "metadata": {
  "kernelspec": {
   "display_name": "Python 3",
   "language": "python",
   "name": "python3"
  },
  "language_info": {
   "codemirror_mode": {
    "name": "ipython",
    "version": 3
   },
   "file_extension": ".py",
   "mimetype": "text/x-python",
   "name": "python",
   "nbconvert_exporter": "python",
   "pygments_lexer": "ipython3",
   "version": "3.13.0"
  }
 },
 "nbformat": 4,
 "nbformat_minor": 5
}
