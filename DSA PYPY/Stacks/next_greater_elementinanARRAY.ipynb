{
 "cells": [
  {
   "cell_type": "markdown",
   "id": "be252842",
   "metadata": {},
   "source": [
    "Naive way"
   ]
  },
  {
   "cell_type": "code",
   "execution_count": 1,
   "id": "91ac54ef",
   "metadata": {},
   "outputs": [
    {
     "name": "stdout",
     "output_type": "stream",
     "text": [
      "- - 50 20 50 "
     ]
    }
   ],
   "source": [
    "from collections import deque\n",
    "\n",
    "def prevGreater(arr):\n",
    "    stack = deque()\n",
    "    stack.append(arr[0])\n",
    "    print(\"-\", end=\" \")\n",
    "\n",
    "    for i in range(1, len(arr)):\n",
    "        while len(stack) > 0 and stack[-1] <= arr[i]:\n",
    "            stack.pop()\n",
    "\n",
    "        if len(stack) == 0:\n",
    "            print(\"-\", end=\" \")\n",
    "        else:\n",
    "            print(stack[-1], end=\" \")\n",
    "\n",
    "        stack.append(arr[i])\n",
    "\n",
    "# Driver code\n",
    "arr = [30, 50, 20, 15, 25]\n",
    "prevGreater(arr)"
   ]
  },
  {
   "cell_type": "markdown",
   "id": "cd8d3fee",
   "metadata": {},
   "source": [
    "optimized way"
   ]
  },
  {
   "cell_type": "code",
   "execution_count": 3,
   "id": "b825a54e",
   "metadata": {},
   "outputs": [
    {
     "name": "stdout",
     "output_type": "stream",
     "text": [
      "50 - 25 25 -\n"
     ]
    }
   ],
   "source": [
    "\n",
    "from collections import deque\n",
    "\n",
    "\n",
    "def prevGreater(arr, size):\n",
    "    stack = deque()\n",
    "    list = []\n",
    "\n",
    "    stack.append(arr[size - 1])\n",
    "    list.append(\"-\")\n",
    "\n",
    "    for i in range(size-2, -1, -1):\n",
    "        while len(stack) > 0 and stack[-1] <= arr[i]:\n",
    "            stack.pop()\n",
    "\n",
    "        if len(stack) == 0:\n",
    "            list.append(\"-\")\n",
    "        else:\n",
    "            list.append(stack[-1])\n",
    "\n",
    "        stack.append(arr[i])\n",
    "\n",
    "    list.reverse()\n",
    "    print(\" \".join(str(x) for x in list))\n",
    "\n",
    "\n",
    "# Driver code\n",
    "arr = [30, 50, 20, 15, 25]\n",
    "prevGreater(arr, len(arr))"
   ]
  }
 ],
 "metadata": {
  "kernelspec": {
   "display_name": "Python 3",
   "language": "python",
   "name": "python3"
  },
  "language_info": {
   "codemirror_mode": {
    "name": "ipython",
    "version": 3
   },
   "file_extension": ".py",
   "mimetype": "text/x-python",
   "name": "python",
   "nbconvert_exporter": "python",
   "pygments_lexer": "ipython3",
   "version": "3.13.0"
  }
 },
 "nbformat": 4,
 "nbformat_minor": 5
}
