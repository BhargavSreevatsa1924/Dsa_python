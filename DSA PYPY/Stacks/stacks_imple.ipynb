{
 "cells": [
  {
   "cell_type": "markdown",
   "id": "2b9970b2",
   "metadata": {},
   "source": [
    "Stack "
   ]
  },
  {
   "cell_type": "code",
   "execution_count": 1,
   "id": "83adab6b",
   "metadata": {},
   "outputs": [
    {
     "name": "stdout",
     "output_type": "stream",
     "text": [
      "5 pushed to stack \n",
      "10 pushed to stack \n",
      "15 pushed to stack \n",
      "20 pushed to stack \n",
      "20 popped from stack\n"
     ]
    }
   ],
   "source": [
    "# This is used to return -infinite whenever our stack is empty\n",
    "from sys import maxsize\n",
    "\n",
    "\n",
    "# Creation of stack happens here\n",
    "def createStack():\n",
    "    stack = []\n",
    "    return stack\n",
    "\n",
    "\n",
    "# If your length of stack is 0 then stack is empty\n",
    "def isEmpty(stack):\n",
    "    return len(stack) == 0\n",
    "\n",
    "\n",
    "# Just use append to add item\n",
    "def push(stack, item):\n",
    "    stack.append(item)\n",
    "    print(item + \" pushed to stack \")\n",
    "\n",
    "\n",
    "# Pop removes the top most / last element in stack/list\n",
    "def pop(stack):\n",
    "    if (isEmpty(stack)):\n",
    "        return str(-maxsize - 1)  # return minus infinite\n",
    "\n",
    "    return stack.pop()\n",
    "\n",
    "\n",
    "# Get the topmost element in the stack\n",
    "def peek(stack):\n",
    "    if (isEmpty(stack)):\n",
    "        return str(-maxsize - 1)  # return minus infinite\n",
    "    return stack[len(stack) - 1]\n",
    "\n",
    "\n",
    "# Driver program\n",
    "stack = createStack()\n",
    "push(stack, str(5))\n",
    "push(stack, str(10))\n",
    "push(stack, str(15))\n",
    "push(stack, str(20))\n",
    "print(pop(stack) + \" popped from stack\")"
   ]
  },
  {
   "cell_type": "markdown",
   "id": "2cf35e6c",
   "metadata": {},
   "source": [
    "st2"
   ]
  },
  {
   "cell_type": "code",
   "execution_count": null,
   "id": "39aeb9ce",
   "metadata": {},
   "outputs": [],
   "source": [
    "# This is used to return -infinite whenever our stack is empty\n",
    "from sys import maxsize\n",
    "\n",
    "\n",
    "class Stack:\n",
    "    def _init_(self):\n",
    "        self.stack = []\n",
    "\n",
    "    # If your length of stack is 0 then stack is empty\n",
    "    def isEmpty(self):\n",
    "        return len(self.stack) == 0\n",
    "\n",
    "    # Just use append to add item\n",
    "    def push(self, item):\n",
    "        self.stack.append(item)\n",
    "        print(item + \" pushed to stack \")\n",
    "\n",
    "    # Pop removes the top most / last element in stack/list\n",
    "    def pop(self):\n",
    "        if self.isEmpty():\n",
    "            return str(-maxsize - 1)  # return minus infinite\n",
    "\n",
    "        return self.stack.pop()\n",
    "\n",
    "    # Get the topmost element in the stack\n",
    "    def peek(self):\n",
    "        if self.isEmpty():\n",
    "            return str(-maxsize - 1)  # return minus infinite\n",
    "        return self.stack[len(self.stack) - 1]\n",
    "\n",
    "    def size(self):\n",
    "        return len(self.stack)\n",
    "\n",
    "    def display(self):\n",
    "        # writing extra ways to practise ways of writing the same in python\n",
    "        print(\" \".join(x for x in self.stack))  # will not print in top to bottom format\n",
    "        print(\" \".join(self.stack[i] for i in range(len(self.stack))))  # will not print in top to bottom format\n",
    "        print(\" \".join(self.stack[i] for i in range(len(self.stack)-1, -1, -1)))  # Will print in top to bottom format (Correct)\n",
    "        print(\" \".join(item for item in self.stack[::-1]))  # will print in top to bottom format (Correct)\n",
    "        print(\", \".join(item for item in self.stack[::-1]))  # will print in top to bottom format (Correct)\n",
    "\n",
    "\n",
    "# Driver program\n",
    "s = Stack()\n",
    "s.push(str(5))\n",
    "s.push(str(10))\n",
    "s.push(str(15))\n",
    "s.push(str(20))\n",
    "print(s.pop() + \" popped from stack\")\n",
    "print(s.peek() + \" is top of the stack\")\n",
    "print(str(s.size()) + \"is size of stack\")\n",
    "s.display()"
   ]
  },
  {
   "cell_type": "markdown",
   "id": "e16be62d",
   "metadata": {},
   "source": [
    "s3"
   ]
  },
  {
   "cell_type": "code",
   "execution_count": 2,
   "id": "f8afbc26",
   "metadata": {},
   "outputs": [
    {
     "name": "stdout",
     "output_type": "stream",
     "text": [
      "[1, 2, 3]\n",
      "3\n",
      "2\n",
      "[1]\n",
      "1\n",
      "1\n",
      "1\n"
     ]
    }
   ],
   "source": [
    "stack = []\n",
    "\n",
    "stack.append(1)\n",
    "stack.append(2)\n",
    "stack.append(3)\n",
    "\n",
    "print(stack)\n",
    "\n",
    "print(stack.pop())\n",
    "print(stack.pop())\n",
    "\n",
    "print(stack)\n",
    "top=stack[-1]\n",
    "print(top)\n",
    "size=len(stack)\n",
    "print(size)\n",
    "print(stack.pop())\n",
    "\n",
    "\n",
    "# removing comments from here print(stack.pop())\n",
    "# Interpreter/compiler will throw an IndexError\n",
    "# as the stack is  empty\n",
    "\n",
    "# If the python list keeps on adding elements and becomes way too big\n",
    "# then append() will take longer time because python will need to some memory allocation arrangements\n",
    "# as the list items are stored in a contiguous way\n",
    "\n",
    "# To solve the above deque methods can be used"
   ]
  },
  {
   "cell_type": "markdown",
   "id": "c67974e7",
   "metadata": {},
   "source": [
    "s4"
   ]
  },
  {
   "cell_type": "code",
   "execution_count": 3,
   "id": "07945cab",
   "metadata": {},
   "outputs": [
    {
     "name": "stdout",
     "output_type": "stream",
     "text": [
      "deque([1, 2, 3])\n",
      "3\n",
      "3\n",
      "3 Popped\n",
      "2 Popped\n",
      "1 Popped\n",
      "deque([])\n"
     ]
    }
   ],
   "source": [
    "# List can become slow due to long length and append method may take longer time\n",
    "# Deque is a better alternative since, deque provides O(1) time complexity at both ends\n",
    "# that O(1) append or pop, while list has O(n) time complexity\n",
    "from collections import deque\n",
    "\n",
    "stack = deque()\n",
    "\n",
    "stack.append(1)\n",
    "stack.append(2)\n",
    "stack.append(3)\n",
    "\n",
    "print(stack)\n",
    "\n",
    "top = stack[-1]\n",
    "print(top)\n",
    "size = len(stack)\n",
    "print(size)\n",
    "\n",
    "\n",
    "print(str(stack.pop()) + \" Popped\")\n",
    "print(str(stack.pop()) + \" Popped\")\n",
    "print(str(stack.pop()) + \" Popped\")\n",
    "print(stack)\n",
    "\n",
    "# uncommenting print(stack.pop())\n",
    "# will cause an IndexError\n",
    "# as the stack is now empty"
   ]
  }
 ],
 "metadata": {
  "kernelspec": {
   "display_name": "Python 3",
   "language": "python",
   "name": "python3"
  },
  "language_info": {
   "codemirror_mode": {
    "name": "ipython",
    "version": 3
   },
   "file_extension": ".py",
   "mimetype": "text/x-python",
   "name": "python",
   "nbconvert_exporter": "python",
   "pygments_lexer": "ipython3",
   "version": "3.13.0"
  }
 },
 "nbformat": 4,
 "nbformat_minor": 5
}
