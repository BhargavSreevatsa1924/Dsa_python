{
 "cells": [
  {
   "cell_type": "code",
   "execution_count": 1,
   "id": "cf252d6b",
   "metadata": {},
   "outputs": [
    {
     "name": "stdout",
     "output_type": "stream",
     "text": [
      "Balanced\n"
     ]
    }
   ],
   "source": [
    "# Time Complexity: O(n) Auxiliary Space: O(n) for stack\n",
    "\n",
    "from collections import deque\n",
    "\n",
    "\n",
    "def check_pair(val1,val2):\n",
    "    return (val1 == '(' and val2 == ')') or (val1 == '[' and val2 == ']') or (val1 == '{' and val2 == '}')\n",
    "\n",
    "\n",
    "def check_balanced(expr):\n",
    "    stack = deque()\n",
    "\n",
    "    for i in range(len(expr)):\n",
    "        if expr[i] == '(' or expr[i] == '[' or expr[i] == '{':\n",
    "            stack.append(expr[i])\n",
    "        else:\n",
    "            # eg. exp = {{}}}{}\n",
    "            # if you look closely above {{}} will be matched with pair, Thus, stack \"Empty\"\n",
    "            # but an extra closing parenthesis like } will never be matched\n",
    "            # so there is no point looking forward\n",
    "            if len(stack) == 0:\n",
    "                return False\n",
    "            elif check_pair(stack[-1], expr[i]):\n",
    "                stack.pop()\n",
    "                continue\n",
    "\n",
    "            return False\n",
    "\n",
    "    return True\n",
    "\n",
    "\n",
    "# driver code\n",
    "expr = \"({})[]\"\n",
    "\n",
    "if check_balanced(expr):\n",
    "    print(\"Balanced\")\n",
    "else:\n",
    "    print(\"Not Balanced\")"
   ]
  }
 ],
 "metadata": {
  "kernelspec": {
   "display_name": "Python 3",
   "language": "python",
   "name": "python3"
  },
  "language_info": {
   "codemirror_mode": {
    "name": "ipython",
    "version": 3
   },
   "file_extension": ".py",
   "mimetype": "text/x-python",
   "name": "python",
   "nbconvert_exporter": "python",
   "pygments_lexer": "ipython3",
   "version": "3.13.0"
  }
 },
 "nbformat": 4,
 "nbformat_minor": 5
}
