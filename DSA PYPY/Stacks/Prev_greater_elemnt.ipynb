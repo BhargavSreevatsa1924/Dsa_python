{
 "cells": [
  {
   "cell_type": "code",
   "execution_count": 3,
   "id": "bdb2ac10",
   "metadata": {},
   "outputs": [
    {
     "name": "stdout",
     "output_type": "stream",
     "text": [
      "- - 50 20 50 "
     ]
    }
   ],
   "source": [
    "# naive way\n",
    "def prevGreater(arr, size):\n",
    "    for i in range(size):\n",
    "        flag = False\n",
    "        for j in range(i - 1, 0, -1):\n",
    "            if arr[j] > arr[i]:\n",
    "                print(arr[j], end=\" \")\n",
    "                flag = True\n",
    "                break\n",
    "        if not flag:\n",
    "            print(\"-\", end=\" \")\n",
    "\n",
    "\n",
    "# Driver Code\n",
    "arr = [30, 50, 20, 15, 25]\n",
    "size = len(arr)\n",
    "prevGreater(arr,size)"
   ]
  },
  {
   "cell_type": "code",
   "execution_count": 2,
   "id": "3fa70b0d",
   "metadata": {},
   "outputs": [
    {
     "name": "stdout",
     "output_type": "stream",
     "text": [
      "- - 50 20 50 "
     ]
    }
   ],
   "source": [
    "# Optimized way\n",
    "from collections import deque\n",
    "def prevGreater(arr):\n",
    "    stack = deque()\n",
    "    stack.append(arr[0])\n",
    "    print(\"-\", end=\" \")\n",
    "\n",
    "    for i in range(1, len(arr)):\n",
    "        while len(stack) > 0 and stack[-1] <= arr[i]:\n",
    "            stack.pop()\n",
    "\n",
    "        if len(stack) == 0:\n",
    "            print(\"-\", end=\" \")\n",
    "        else:\n",
    "            print(stack[-1], end=\" \")\n",
    "\n",
    "        stack.append(arr[i])\n",
    "\n",
    "\n",
    "# Driver code\n",
    "arr = [30, 50, 20, 15, 25]\n",
    "prevGreater(arr)"
   ]
  }
 ],
 "metadata": {
  "kernelspec": {
   "display_name": "Python 3",
   "language": "python",
   "name": "python3"
  },
  "language_info": {
   "codemirror_mode": {
    "name": "ipython",
    "version": 3
   },
   "file_extension": ".py",
   "mimetype": "text/x-python",
   "name": "python",
   "nbconvert_exporter": "python",
   "pygments_lexer": "ipython3",
   "version": "3.13.0"
  }
 },
 "nbformat": 4,
 "nbformat_minor": 5
}
