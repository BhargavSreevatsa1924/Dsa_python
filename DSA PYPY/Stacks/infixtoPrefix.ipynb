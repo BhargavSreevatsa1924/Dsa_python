{
 "cells": [
  {
   "cell_type": "code",
   "execution_count": 1,
   "id": "2918df52",
   "metadata": {},
   "outputs": [
    {
     "name": "stdout",
     "output_type": "stream",
     "text": [
      "+a-*b^-^cde+f*ghi\n"
     ]
    }
   ],
   "source": [
    "def checkIfOperand(c):\n",
    "    return c.isalpha()\n",
    "\n",
    "\n",
    "def precedence(ch, stack_top):\n",
    "    prec = {'+': 1, '-': 1, '*': 2, '/': 2, '^': 3}\n",
    "\n",
    "    try:\n",
    "        a = prec[ch]\n",
    "        b = prec[stack_top]\n",
    "\n",
    "        return True if a <= b else False\n",
    "    except KeyError:\n",
    "        return False\n",
    "\n",
    "\n",
    "def covertInfixToPostfix(expr):\n",
    "    stack = []\n",
    "    result = []\n",
    "\n",
    "    for i in range(len(expr)):\n",
    "        if checkIfOperand(expr[i]):\n",
    "            result.append(expr[i])\n",
    "\n",
    "        elif expr[i] == '(':\n",
    "            stack.append(expr[i])\n",
    "\n",
    "        elif expr[i] == ')':\n",
    "            while len(stack) > 0 and stack[-1] != '(':\n",
    "                result.append(stack.pop())\n",
    "\n",
    "            if len(stack) > 0 and stack[-1] != '(':\n",
    "                return  # invalid expression\n",
    "            else:\n",
    "                stack.pop()\n",
    "        else:\n",
    "            while len(stack) > 0 and precedence(expr[i], stack[-1]):\n",
    "                result.append(stack.pop())\n",
    "\n",
    "            stack.append(expr[i])\n",
    "\n",
    "    while len(stack) > 0:\n",
    "        result.append(stack.pop())\n",
    "\n",
    "    return result\n",
    "\n",
    "\n",
    "def covertInfixToPrefix(expression):\n",
    "    list = [x for x in expression]\n",
    "    list.reverse()\n",
    "\n",
    "    for i in range(len(list)):\n",
    "        if list[i] == '(':\n",
    "            list[i] = \")\"\n",
    "        elif list[i] == \")\":\n",
    "            list[i] = \"(\"\n",
    "\n",
    "    result = covertInfixToPostfix(list)\n",
    "    result.reverse()\n",
    "\n",
    "    print(\"\".join(x for x in result))\n",
    "\n",
    "\n",
    "# Driver Code\n",
    "expression = \"a+b*(c^d-e)^(f+g*h)-i\"\n",
    "covertInfixToPrefix(expression)"
   ]
  }
 ],
 "metadata": {
  "kernelspec": {
   "display_name": "Python 3",
   "language": "python",
   "name": "python3"
  },
  "language_info": {
   "codemirror_mode": {
    "name": "ipython",
    "version": 3
   },
   "file_extension": ".py",
   "mimetype": "text/x-python",
   "name": "python",
   "nbconvert_exporter": "python",
   "pygments_lexer": "ipython3",
   "version": "3.13.0"
  }
 },
 "nbformat": 4,
 "nbformat_minor": 5
}
